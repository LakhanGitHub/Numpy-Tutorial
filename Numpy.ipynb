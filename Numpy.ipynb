{
 "cells": [
  {
   "cell_type": "markdown",
   "id": "6bc0973a",
   "metadata": {},
   "source": [
    "# Numpy is a general purpose array processing package "
   ]
  },
  {
   "cell_type": "markdown",
   "id": "e5002af2",
   "metadata": {},
   "source": [
    "# which provoides tools for handling the n-dimentional array"
   ]
  },
  {
   "cell_type": "markdown",
   "id": "ce9d7d3d",
   "metadata": {},
   "source": [
    "# Numpy is written in C & Python"
   ]
  },
  {
   "cell_type": "markdown",
   "id": "27d9c16f",
   "metadata": {},
   "source": [
    "# Its stands for \"Numerical Python\" allow to store data in multi diametional array."
   ]
  },
  {
   "cell_type": "markdown",
   "id": "1caaddd4",
   "metadata": {},
   "source": [
    "# It is a table of elements (usally numbers), all of the same type"
   ]
  },
  {
   "cell_type": "code",
   "execution_count": 38,
   "id": "6ed780b4",
   "metadata": {},
   "outputs": [
    {
     "name": "stdout",
     "output_type": "stream",
     "text": [
      "Defaulting to user installation because normal site-packages is not writeable\n",
      "Requirement already satisfied: numpy in c:\\programdata\\anaconda3\\lib\\site-packages (1.21.5)\n"
     ]
    }
   ],
   "source": [
    "!pip install numpy"
   ]
  },
  {
   "cell_type": "code",
   "execution_count": 3,
   "id": "d3b90b7d",
   "metadata": {},
   "outputs": [],
   "source": [
    "    import numpy as np"
   ]
  },
  {
   "cell_type": "markdown",
   "id": "ef0c6d1f",
   "metadata": {},
   "source": [
    "# Create Array\n"
   ]
  },
  {
   "cell_type": "code",
   "execution_count": 17,
   "id": "f1133cda",
   "metadata": {},
   "outputs": [],
   "source": [
    "np_array = np.array([1,2,3,4,5]) #it is one dimentional array"
   ]
  },
  {
   "cell_type": "code",
   "execution_count": 18,
   "id": "2f11e1d0",
   "metadata": {},
   "outputs": [
    {
     "data": {
      "text/plain": [
       "array([1, 2, 3, 4, 5])"
      ]
     },
     "execution_count": 18,
     "metadata": {},
     "output_type": "execute_result"
    }
   ],
   "source": [
    "np_array"
   ]
  },
  {
   "cell_type": "markdown",
   "id": "f34ef14e",
   "metadata": {},
   "source": [
    "# Array of zero"
   ]
  },
  {
   "cell_type": "code",
   "execution_count": 21,
   "id": "928e0bb1",
   "metadata": {},
   "outputs": [],
   "source": [
    "Zero_array = np.zeros(6) #array of zero of 3 time"
   ]
  },
  {
   "cell_type": "code",
   "execution_count": 22,
   "id": "535875b2",
   "metadata": {},
   "outputs": [
    {
     "data": {
      "text/plain": [
       "array([0., 0., 0., 0., 0., 0.])"
      ]
     },
     "execution_count": 22,
     "metadata": {},
     "output_type": "execute_result"
    }
   ],
   "source": [
    "Zero_array"
   ]
  },
  {
   "cell_type": "markdown",
   "id": "5feb4729",
   "metadata": {},
   "source": [
    "# Array of 1"
   ]
  },
  {
   "cell_type": "code",
   "execution_count": 23,
   "id": "d9dfec4d",
   "metadata": {},
   "outputs": [],
   "source": [
    "ones_array = np.ones(4)"
   ]
  },
  {
   "cell_type": "code",
   "execution_count": 24,
   "id": "333a663b",
   "metadata": {},
   "outputs": [
    {
     "data": {
      "text/plain": [
       "array([1., 1., 1., 1.])"
      ]
     },
     "execution_count": 24,
     "metadata": {},
     "output_type": "execute_result"
    }
   ],
   "source": [
    "ones_array"
   ]
  },
  {
   "cell_type": "markdown",
   "id": "6b820992",
   "metadata": {},
   "source": [
    "# linSpace Array "
   ]
  },
  {
   "cell_type": "code",
   "execution_count": 25,
   "id": "371a1c48",
   "metadata": {},
   "outputs": [],
   "source": [
    "space_array = np.linspace(5,40,8) #produce number to 12 time between 7 to 40"
   ]
  },
  {
   "cell_type": "code",
   "execution_count": 27,
   "id": "eb6bbc15",
   "metadata": {},
   "outputs": [
    {
     "data": {
      "text/plain": [
       "array([ 5., 10., 15., 20., 25., 30., 35., 40.])"
      ]
     },
     "execution_count": 27,
     "metadata": {},
     "output_type": "execute_result"
    }
   ],
   "source": [
    "space_array"
   ]
  },
  {
   "cell_type": "markdown",
   "id": "4f5b4f06",
   "metadata": {},
   "source": [
    "# Generate random number"
   ]
  },
  {
   "cell_type": "code",
   "execution_count": 32,
   "id": "f19bdbf0",
   "metadata": {},
   "outputs": [],
   "source": [
    "random_array = np.random.randint(1,100, 20) # random intiger number"
   ]
  },
  {
   "cell_type": "code",
   "execution_count": 33,
   "id": "4a4a9b53",
   "metadata": {},
   "outputs": [
    {
     "data": {
      "text/plain": [
       "array([16, 90, 84, 24,  6, 85, 12, 60, 74, 51, 61, 57, 55, 70, 81, 28, 70,\n",
       "       38, 70, 92])"
      ]
     },
     "execution_count": 33,
     "metadata": {},
     "output_type": "execute_result"
    }
   ],
   "source": [
    "random_array"
   ]
  },
  {
   "cell_type": "markdown",
   "id": "c5f6784e",
   "metadata": {},
   "source": [
    "# 6. Convert array into List"
   ]
  },
  {
   "cell_type": "code",
   "execution_count": 35,
   "id": "f8a83e23",
   "metadata": {},
   "outputs": [],
   "source": [
    "np_array = np.array([2,1,5,3,4])"
   ]
  },
  {
   "cell_type": "code",
   "execution_count": 36,
   "id": "688c895b",
   "metadata": {},
   "outputs": [
    {
     "data": {
      "text/plain": [
       "array([2, 1, 5, 3, 4])"
      ]
     },
     "execution_count": 36,
     "metadata": {},
     "output_type": "execute_result"
    }
   ],
   "source": [
    "np_array"
   ]
  },
  {
   "cell_type": "code",
   "execution_count": 37,
   "id": "ec328c68",
   "metadata": {},
   "outputs": [],
   "source": [
    "np_list = np_array.tolist()"
   ]
  },
  {
   "cell_type": "code",
   "execution_count": 38,
   "id": "d2d10d12",
   "metadata": {},
   "outputs": [
    {
     "data": {
      "text/plain": [
       "[2, 1, 5, 3, 4]"
      ]
     },
     "execution_count": 38,
     "metadata": {},
     "output_type": "execute_result"
    }
   ],
   "source": [
    "np_list"
   ]
  },
  {
   "cell_type": "markdown",
   "id": "3efac873",
   "metadata": {},
   "source": [
    "# Higher Diamentional array"
   ]
  },
  {
   "cell_type": "markdown",
   "id": "27c536c0",
   "metadata": {},
   "source": [
    "# 2D Array"
   ]
  },
  {
   "cell_type": "code",
   "execution_count": 42,
   "id": "1e97d028",
   "metadata": {},
   "outputs": [],
   "source": [
    "np_2D_array = np.array([[1,2,3],\n",
    "                      [6,4,2],\n",
    "                      [9,7,1]])"
   ]
  },
  {
   "cell_type": "code",
   "execution_count": 43,
   "id": "832c4a64",
   "metadata": {},
   "outputs": [
    {
     "data": {
      "text/plain": [
       "array([[1, 2, 3],\n",
       "       [6, 4, 2],\n",
       "       [9, 7, 1]])"
      ]
     },
     "execution_count": 43,
     "metadata": {},
     "output_type": "execute_result"
    }
   ],
   "source": [
    "np_2D_array"
   ]
  },
  {
   "cell_type": "markdown",
   "id": "5f068fa8",
   "metadata": {},
   "source": [
    "# Reshape"
   ]
  },
  {
   "cell_type": "code",
   "execution_count": 45,
   "id": "34a61439",
   "metadata": {},
   "outputs": [],
   "source": [
    "np_transpose = np.array(range(25)).reshape(5,5)"
   ]
  },
  {
   "cell_type": "code",
   "execution_count": 46,
   "id": "9a8a9361",
   "metadata": {},
   "outputs": [
    {
     "data": {
      "text/plain": [
       "array([[ 0,  1,  2,  3,  4],\n",
       "       [ 5,  6,  7,  8,  9],\n",
       "       [10, 11, 12, 13, 14],\n",
       "       [15, 16, 17, 18, 19],\n",
       "       [20, 21, 22, 23, 24]])"
      ]
     },
     "execution_count": 46,
     "metadata": {},
     "output_type": "execute_result"
    }
   ],
   "source": [
    "np_transpose"
   ]
  },
  {
   "cell_type": "code",
   "execution_count": 44,
   "id": "9dfb561b",
   "metadata": {},
   "outputs": [
    {
     "data": {
      "text/plain": [
       "array([ 0,  1,  2,  3,  4,  5,  6,  7,  8,  9, 10, 11, 12, 13, 14, 15, 16,\n",
       "       17, 18, 19, 20, 21, 22, 23, 24])"
      ]
     },
     "execution_count": 44,
     "metadata": {},
     "output_type": "execute_result"
    }
   ],
   "source": [
    " np.array(range(25))"
   ]
  },
  {
   "cell_type": "markdown",
   "id": "ac0f8d83",
   "metadata": {},
   "source": [
    "# 3D Array"
   ]
  },
  {
   "cell_type": "code",
   "execution_count": 47,
   "id": "630b8205",
   "metadata": {},
   "outputs": [],
   "source": [
    "np_3D_array = np.array([[[1,2,3],\n",
    "                        [6,4,6],\n",
    "                        [6,4,8]],\n",
    "                        [[3,5,7],\n",
    "                        [4,7,9],\n",
    "                        [6,7,4]],\n",
    "                        [[4,7,9],\n",
    "                        [5,7,9],\n",
    "                        [5,7,3]]])"
   ]
  },
  {
   "cell_type": "code",
   "execution_count": 48,
   "id": "aa8331a9",
   "metadata": {},
   "outputs": [
    {
     "data": {
      "text/plain": [
       "array([[[1, 2, 3],\n",
       "        [6, 4, 6],\n",
       "        [6, 4, 8]],\n",
       "\n",
       "       [[3, 5, 7],\n",
       "        [4, 7, 9],\n",
       "        [6, 7, 4]],\n",
       "\n",
       "       [[4, 7, 9],\n",
       "        [5, 7, 9],\n",
       "        [5, 7, 3]]])"
      ]
     },
     "execution_count": 48,
     "metadata": {},
     "output_type": "execute_result"
    }
   ],
   "source": [
    "np_3D_array"
   ]
  },
  {
   "cell_type": "markdown",
   "id": "0f5e4d46",
   "metadata": {},
   "source": [
    "# Numpy Operation"
   ]
  },
  {
   "cell_type": "markdown",
   "id": "e00ace91",
   "metadata": {},
   "source": [
    "# type"
   ]
  },
  {
   "cell_type": "code",
   "execution_count": 50,
   "id": "01ee6b4a",
   "metadata": {},
   "outputs": [],
   "source": [
    "a = type(np_array) #it show subclass of numpy (ndarray)"
   ]
  },
  {
   "cell_type": "code",
   "execution_count": 51,
   "id": "3289a5bb",
   "metadata": {},
   "outputs": [
    {
     "data": {
      "text/plain": [
       "numpy.ndarray"
      ]
     },
     "execution_count": 51,
     "metadata": {},
     "output_type": "execute_result"
    }
   ],
   "source": [
    "a"
   ]
  },
  {
   "cell_type": "code",
   "execution_count": 49,
   "id": "dc6a9cc8",
   "metadata": {},
   "outputs": [
    {
     "data": {
      "text/plain": [
       "array([2, 1, 5, 3, 4])"
      ]
     },
     "execution_count": 49,
     "metadata": {},
     "output_type": "execute_result"
    }
   ],
   "source": [
    "np_array"
   ]
  },
  {
   "cell_type": "markdown",
   "id": "26eafc2a",
   "metadata": {},
   "source": [
    "# min max argmax argmin"
   ]
  },
  {
   "cell_type": "code",
   "execution_count": 52,
   "id": "a7d47248",
   "metadata": {},
   "outputs": [],
   "source": [
    "np_array = np.array([2,1,5,3,4])"
   ]
  },
  {
   "cell_type": "code",
   "execution_count": 53,
   "id": "41242463",
   "metadata": {},
   "outputs": [
    {
     "data": {
      "text/plain": [
       "array([2, 1, 5, 3, 4])"
      ]
     },
     "execution_count": 53,
     "metadata": {},
     "output_type": "execute_result"
    }
   ],
   "source": [
    "np_array"
   ]
  },
  {
   "cell_type": "code",
   "execution_count": 56,
   "id": "84843fa8",
   "metadata": {},
   "outputs": [],
   "source": [
    "np_max = np_array.max()"
   ]
  },
  {
   "cell_type": "code",
   "execution_count": 57,
   "id": "abdc959e",
   "metadata": {},
   "outputs": [
    {
     "data": {
      "text/plain": [
       "5"
      ]
     },
     "execution_count": 57,
     "metadata": {},
     "output_type": "execute_result"
    }
   ],
   "source": [
    "np_max"
   ]
  },
  {
   "cell_type": "code",
   "execution_count": 58,
   "id": "e83ee150",
   "metadata": {},
   "outputs": [],
   "source": [
    "np_argmax = np_array.argmax() #retrun Index value of max number"
   ]
  },
  {
   "cell_type": "code",
   "execution_count": 59,
   "id": "f21d2276",
   "metadata": {},
   "outputs": [
    {
     "data": {
      "text/plain": [
       "2"
      ]
     },
     "execution_count": 59,
     "metadata": {},
     "output_type": "execute_result"
    }
   ],
   "source": [
    "np_argmax"
   ]
  },
  {
   "cell_type": "code",
   "execution_count": 60,
   "id": "e962c90f",
   "metadata": {},
   "outputs": [],
   "source": [
    "np_argmin = np_array.argmin() #retrun Index value of min number"
   ]
  },
  {
   "cell_type": "code",
   "execution_count": 61,
   "id": "9f93820c",
   "metadata": {},
   "outputs": [
    {
     "data": {
      "text/plain": [
       "1"
      ]
     },
     "execution_count": 61,
     "metadata": {},
     "output_type": "execute_result"
    }
   ],
   "source": [
    "np_argmin"
   ]
  },
  {
   "cell_type": "markdown",
   "id": "0388f8a7",
   "metadata": {},
   "source": [
    "# sort"
   ]
  },
  {
   "cell_type": "code",
   "execution_count": 63,
   "id": "465202f5",
   "metadata": {},
   "outputs": [],
   "source": [
    "np_sort = np.sort(np_array) #this will sort and retrun a copy of array"
   ]
  },
  {
   "cell_type": "code",
   "execution_count": 62,
   "id": "e63d7ce9",
   "metadata": {},
   "outputs": [
    {
     "data": {
      "text/plain": [
       "array([2, 1, 5, 3, 4])"
      ]
     },
     "execution_count": 62,
     "metadata": {},
     "output_type": "execute_result"
    }
   ],
   "source": [
    "np_array"
   ]
  },
  {
   "cell_type": "code",
   "execution_count": 88,
   "id": "6e421271",
   "metadata": {},
   "outputs": [
    {
     "data": {
      "text/plain": [
       "array([1, 2, 3, 4, 5])"
      ]
     },
     "execution_count": 88,
     "metadata": {},
     "output_type": "execute_result"
    }
   ],
   "source": [
    "np_sort"
   ]
  },
  {
   "cell_type": "code",
   "execution_count": 65,
   "id": "ce37698a",
   "metadata": {},
   "outputs": [
    {
     "data": {
      "text/plain": [
       "array([2, 1, 5, 3, 4])"
      ]
     },
     "execution_count": 65,
     "metadata": {},
     "output_type": "execute_result"
    }
   ],
   "source": [
    "np_array"
   ]
  },
  {
   "cell_type": "code",
   "execution_count": 101,
   "id": "e473b01c",
   "metadata": {},
   "outputs": [],
   "source": [
    "dummy = np.array([1,5,6,4,5,3])"
   ]
  },
  {
   "cell_type": "code",
   "execution_count": 101,
   "id": "24310c1e",
   "metadata": {},
   "outputs": [],
   "source": [
    "np_order = np.sort(d)[::-1]"
   ]
  },
  {
   "cell_type": "code",
   "execution_count": 102,
   "id": "7d23b046",
   "metadata": {},
   "outputs": [],
   "source": [
    "dummy.sort() #this will sort orgnal data"
   ]
  },
  {
   "cell_type": "code",
   "execution_count": 103,
   "id": "1fcc2c12",
   "metadata": {},
   "outputs": [
    {
     "data": {
      "text/plain": [
       "array([1, 3, 4, 5, 5, 6])"
      ]
     },
     "execution_count": 103,
     "metadata": {},
     "output_type": "execute_result"
    }
   ],
   "source": [
    "dummy"
   ]
  },
  {
   "cell_type": "markdown",
   "id": "e68b9cf3",
   "metadata": {},
   "source": [
    "# sorting 2D array"
   ]
  },
  {
   "cell_type": "code",
   "execution_count": 104,
   "id": "fea2e7c6",
   "metadata": {},
   "outputs": [],
   "source": [
    "np_2D_array = np.array([[1,2,3],\n",
    "                      [6,4,2],\n",
    "                      [9,7,1]])"
   ]
  },
  {
   "cell_type": "code",
   "execution_count": 105,
   "id": "66f3f93a",
   "metadata": {},
   "outputs": [
    {
     "data": {
      "text/plain": [
       "array([[1, 2, 3],\n",
       "       [6, 4, 2],\n",
       "       [9, 7, 1]])"
      ]
     },
     "execution_count": 105,
     "metadata": {},
     "output_type": "execute_result"
    }
   ],
   "source": [
    "np_2D_array"
   ]
  },
  {
   "cell_type": "code",
   "execution_count": 108,
   "id": "e4b8b444",
   "metadata": {},
   "outputs": [],
   "source": [
    "sort_2d = np.sort(np_2D_array, axis=0) #sort by row element axis=1 and 0-for column element"
   ]
  },
  {
   "cell_type": "code",
   "execution_count": 109,
   "id": "adcbd623",
   "metadata": {},
   "outputs": [
    {
     "data": {
      "text/plain": [
       "array([[1, 2, 1],\n",
       "       [6, 4, 2],\n",
       "       [9, 7, 3]])"
      ]
     },
     "execution_count": 109,
     "metadata": {},
     "output_type": "execute_result"
    }
   ],
   "source": [
    "sort_2d"
   ]
  },
  {
   "cell_type": "markdown",
   "id": "edbc161d",
   "metadata": {},
   "source": [
    "# Mean Std Log"
   ]
  },
  {
   "cell_type": "code",
   "execution_count": 113,
   "id": "4af3c9a2",
   "metadata": {},
   "outputs": [],
   "source": [
    "np_mean = np.mean(np_array)"
   ]
  },
  {
   "cell_type": "code",
   "execution_count": 115,
   "id": "d52bd6cc",
   "metadata": {},
   "outputs": [],
   "source": [
    "np_std = np.std(np_array)"
   ]
  },
  {
   "cell_type": "code",
   "execution_count": 137,
   "id": "614b846e",
   "metadata": {},
   "outputs": [],
   "source": [
    "np_log = np.log(np_array)"
   ]
  },
  {
   "cell_type": "markdown",
   "id": "c144ce1a",
   "metadata": {},
   "source": [
    "# Some Mathmetical Operations"
   ]
  },
  {
   "cell_type": "code",
   "execution_count": 110,
   "id": "f69ac720",
   "metadata": {},
   "outputs": [],
   "source": [
    "array1 = np.array([1,2,3])\n",
    "array2 = np.array([4,5,6])"
   ]
  },
  {
   "cell_type": "code",
   "execution_count": 111,
   "id": "160197ca",
   "metadata": {},
   "outputs": [],
   "source": [
    "np_add = array1+array2"
   ]
  },
  {
   "cell_type": "code",
   "execution_count": 112,
   "id": "665a7b9a",
   "metadata": {},
   "outputs": [
    {
     "data": {
      "text/plain": [
       "array([5, 7, 9])"
      ]
     },
     "execution_count": 112,
     "metadata": {},
     "output_type": "execute_result"
    }
   ],
   "source": [
    "np_add"
   ]
  },
  {
   "cell_type": "code",
   "execution_count": 113,
   "id": "785e244e",
   "metadata": {},
   "outputs": [],
   "source": [
    "np_sub = array2-array1"
   ]
  },
  {
   "cell_type": "code",
   "execution_count": 114,
   "id": "8ecfa80c",
   "metadata": {},
   "outputs": [
    {
     "data": {
      "text/plain": [
       "array([3, 3, 3])"
      ]
     },
     "execution_count": 114,
     "metadata": {},
     "output_type": "execute_result"
    }
   ],
   "source": [
    "np_sub"
   ]
  },
  {
   "cell_type": "code",
   "execution_count": 115,
   "id": "122ab12a",
   "metadata": {},
   "outputs": [],
   "source": [
    "np_mul = array1*array2"
   ]
  },
  {
   "cell_type": "code",
   "execution_count": 116,
   "id": "677a72fa",
   "metadata": {},
   "outputs": [
    {
     "data": {
      "text/plain": [
       "array([ 4, 10, 18])"
      ]
     },
     "execution_count": 116,
     "metadata": {},
     "output_type": "execute_result"
    }
   ],
   "source": [
    "np_mul"
   ]
  },
  {
   "cell_type": "code",
   "execution_count": 117,
   "id": "d071546a",
   "metadata": {},
   "outputs": [],
   "source": [
    "np_devi = array1/array2"
   ]
  },
  {
   "cell_type": "code",
   "execution_count": 118,
   "id": "320dd6c2",
   "metadata": {},
   "outputs": [
    {
     "data": {
      "text/plain": [
       "array([0.25, 0.4 , 0.5 ])"
      ]
     },
     "execution_count": 118,
     "metadata": {},
     "output_type": "execute_result"
    }
   ],
   "source": [
    "np_devi"
   ]
  },
  {
   "cell_type": "markdown",
   "id": "016db007",
   "metadata": {},
   "source": [
    "# Exponancial"
   ]
  },
  {
   "cell_type": "code",
   "execution_count": 120,
   "id": "2eab7a80",
   "metadata": {},
   "outputs": [],
   "source": [
    "np_exp = array1**2"
   ]
  },
  {
   "cell_type": "code",
   "execution_count": 119,
   "id": "cab5c0fa",
   "metadata": {},
   "outputs": [
    {
     "data": {
      "text/plain": [
       "array([1, 2, 3])"
      ]
     },
     "execution_count": 119,
     "metadata": {},
     "output_type": "execute_result"
    }
   ],
   "source": [
    "array1"
   ]
  },
  {
   "cell_type": "code",
   "execution_count": 121,
   "id": "8061e283",
   "metadata": {},
   "outputs": [
    {
     "data": {
      "text/plain": [
       "array([1, 4, 9], dtype=int32)"
      ]
     },
     "execution_count": 121,
     "metadata": {},
     "output_type": "execute_result"
    }
   ],
   "source": [
    "np_exp"
   ]
  },
  {
   "cell_type": "markdown",
   "id": "4e6a74b2",
   "metadata": {},
   "source": [
    "# Copy"
   ]
  },
  {
   "cell_type": "code",
   "execution_count": 122,
   "id": "09e9a14d",
   "metadata": {},
   "outputs": [],
   "source": [
    "np_2D_array = np.array([[1,2,3],\n",
    "                      [6,4,2],\n",
    "                      [9,7,1]])"
   ]
  },
  {
   "cell_type": "code",
   "execution_count": 123,
   "id": "6c703f43",
   "metadata": {},
   "outputs": [],
   "source": [
    "copy_array = np_2D_array.copy()"
   ]
  },
  {
   "cell_type": "code",
   "execution_count": 124,
   "id": "b067dffb",
   "metadata": {},
   "outputs": [
    {
     "data": {
      "text/plain": [
       "array([[1, 2, 3],\n",
       "       [6, 4, 2],\n",
       "       [9, 7, 1]])"
      ]
     },
     "execution_count": 124,
     "metadata": {},
     "output_type": "execute_result"
    }
   ],
   "source": [
    "copy_array"
   ]
  },
  {
   "cell_type": "code",
   "execution_count": 125,
   "id": "1574fcb8",
   "metadata": {},
   "outputs": [
    {
     "data": {
      "text/plain": [
       "array([[1, 2, 3],\n",
       "       [6, 4, 2],\n",
       "       [9, 7, 1]])"
      ]
     },
     "execution_count": 125,
     "metadata": {},
     "output_type": "execute_result"
    }
   ],
   "source": [
    "np_2D_array"
   ]
  },
  {
   "cell_type": "markdown",
   "id": "2ac97d3f",
   "metadata": {},
   "source": [
    "# Indexing and Slicing"
   ]
  },
  {
   "cell_type": "markdown",
   "id": "8fae8e29",
   "metadata": {},
   "source": [
    "# Whenever we play with indexing and slicing it is not creating a copy but give view"
   ]
  },
  {
   "cell_type": "code",
   "execution_count": 137,
   "id": "df5fa320",
   "metadata": {},
   "outputs": [],
   "source": [
    "np_array_new = np.array([12,5,-2,29,21])"
   ]
  },
  {
   "cell_type": "code",
   "execution_count": 141,
   "id": "8d211b1a",
   "metadata": {},
   "outputs": [
    {
     "data": {
      "text/plain": [
       "array([-2, 29])"
      ]
     },
     "execution_count": 141,
     "metadata": {},
     "output_type": "execute_result"
    }
   ],
   "source": [
    "np_array_new[2:4] # from indexing possition 2"
   ]
  },
  {
   "cell_type": "code",
   "execution_count": 142,
   "id": "4191141a",
   "metadata": {},
   "outputs": [],
   "source": [
    "no_order = np_array_new[::-1]"
   ]
  },
  {
   "cell_type": "code",
   "execution_count": 143,
   "id": "01a0027e",
   "metadata": {},
   "outputs": [
    {
     "data": {
      "text/plain": [
       "array([21, 29, -2,  5, 12])"
      ]
     },
     "execution_count": 143,
     "metadata": {},
     "output_type": "execute_result"
    }
   ],
   "source": [
    "no_order"
   ]
  },
  {
   "cell_type": "code",
   "execution_count": 144,
   "id": "d0500bd8",
   "metadata": {},
   "outputs": [],
   "source": [
    "np_slice1 = np_array_new[-2:-1] # from last second element"
   ]
  },
  {
   "cell_type": "code",
   "execution_count": 145,
   "id": "a3f2acd6",
   "metadata": {},
   "outputs": [
    {
     "data": {
      "text/plain": [
       "array([29])"
      ]
     },
     "execution_count": 145,
     "metadata": {},
     "output_type": "execute_result"
    }
   ],
   "source": [
    "np_slice1"
   ]
  },
  {
   "cell_type": "code",
   "execution_count": 146,
   "id": "b95163ad",
   "metadata": {},
   "outputs": [],
   "source": [
    "np_slice2 = np_array_new[:4] #start from 0 to index 3"
   ]
  },
  {
   "cell_type": "code",
   "execution_count": 147,
   "id": "824d3f51",
   "metadata": {},
   "outputs": [
    {
     "data": {
      "text/plain": [
       "array([12,  5, -2, 29])"
      ]
     },
     "execution_count": 147,
     "metadata": {},
     "output_type": "execute_result"
    }
   ],
   "source": [
    "np_slice2"
   ]
  },
  {
   "cell_type": "markdown",
   "id": "21fefec5",
   "metadata": {},
   "source": [
    "# Copy "
   ]
  },
  {
   "cell_type": "code",
   "execution_count": 149,
   "id": "d8378815",
   "metadata": {},
   "outputs": [],
   "source": [
    "np_copy = np_array_new[1:3].copy()"
   ]
  },
  {
   "cell_type": "code",
   "execution_count": 150,
   "id": "effeca19",
   "metadata": {},
   "outputs": [
    {
     "data": {
      "text/plain": [
       "array([ 5, -2])"
      ]
     },
     "execution_count": 150,
     "metadata": {},
     "output_type": "execute_result"
    }
   ],
   "source": [
    "np_copy"
   ]
  },
  {
   "cell_type": "markdown",
   "id": "5f450caf",
   "metadata": {},
   "source": [
    "# Insert number into array"
   ]
  },
  {
   "cell_type": "code",
   "execution_count": 152,
   "id": "c22d8a3e",
   "metadata": {},
   "outputs": [],
   "source": [
    "np_copy[:] = 5"
   ]
  },
  {
   "cell_type": "code",
   "execution_count": 153,
   "id": "badef66c",
   "metadata": {},
   "outputs": [
    {
     "data": {
      "text/plain": [
       "array([5, 5])"
      ]
     },
     "execution_count": 153,
     "metadata": {},
     "output_type": "execute_result"
    }
   ],
   "source": [
    "np_copy"
   ]
  },
  {
   "cell_type": "markdown",
   "id": "725794e2",
   "metadata": {},
   "source": [
    "# Slicing 2D array"
   ]
  },
  {
   "cell_type": "code",
   "execution_count": 155,
   "id": "7e7e89a7",
   "metadata": {},
   "outputs": [],
   "source": [
    "np_2D_array = np.array([[1,2,3],\n",
    "                      [6,4,2],\n",
    "                      [9,7,1]])"
   ]
  },
  {
   "cell_type": "code",
   "execution_count": 156,
   "id": "01d78e2b",
   "metadata": {},
   "outputs": [],
   "source": [
    "slice_2D_1 = np_2D_array[:2,:2]"
   ]
  },
  {
   "cell_type": "code",
   "execution_count": 157,
   "id": "5d76a1ec",
   "metadata": {},
   "outputs": [
    {
     "data": {
      "text/plain": [
       "array([[1, 2],\n",
       "       [6, 4]])"
      ]
     },
     "execution_count": 157,
     "metadata": {},
     "output_type": "execute_result"
    }
   ],
   "source": [
    "slice_2D_1"
   ]
  },
  {
   "cell_type": "code",
   "execution_count": 158,
   "id": "4582307a",
   "metadata": {},
   "outputs": [],
   "source": [
    "slice_2D_2 = np_2D_array[:,1:]"
   ]
  },
  {
   "cell_type": "code",
   "execution_count": 159,
   "id": "d600ebe8",
   "metadata": {},
   "outputs": [
    {
     "data": {
      "text/plain": [
       "array([[2, 3],\n",
       "       [4, 2],\n",
       "       [7, 1]])"
      ]
     },
     "execution_count": 159,
     "metadata": {},
     "output_type": "execute_result"
    }
   ],
   "source": [
    "slice_2D_2"
   ]
  },
  {
   "cell_type": "code",
   "execution_count": 160,
   "id": "406f1061",
   "metadata": {},
   "outputs": [],
   "source": [
    "slice_2D_3 = np_2D_array[1:,1:]"
   ]
  },
  {
   "cell_type": "code",
   "execution_count": 161,
   "id": "ec9a3d8c",
   "metadata": {},
   "outputs": [
    {
     "data": {
      "text/plain": [
       "array([[4, 2],\n",
       "       [7, 1]])"
      ]
     },
     "execution_count": 161,
     "metadata": {},
     "output_type": "execute_result"
    }
   ],
   "source": [
    "slice_2D_3"
   ]
  },
  {
   "cell_type": "markdown",
   "id": "77acbcab",
   "metadata": {},
   "source": [
    "# Thank You"
   ]
  }
 ],
 "metadata": {
  "kernelspec": {
   "display_name": "Python 3 (ipykernel)",
   "language": "python",
   "name": "python3"
  },
  "language_info": {
   "codemirror_mode": {
    "name": "ipython",
    "version": 3
   },
   "file_extension": ".py",
   "mimetype": "text/x-python",
   "name": "python",
   "nbconvert_exporter": "python",
   "pygments_lexer": "ipython3",
   "version": "3.9.12"
  }
 },
 "nbformat": 4,
 "nbformat_minor": 5
}
